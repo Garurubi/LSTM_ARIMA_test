{
 "cells": [
  {
   "cell_type": "code",
   "execution_count": 19,
   "metadata": {},
   "outputs": [],
   "source": [
    "import torch\n",
    "import pandas as pd\n",
    "import numpy as np\n",
    "import tqdm\n",
    "import torch.nn as nn\n",
    "import argparse\n",
    "import matplotlib.pyplot as plt\n",
    "from sklearn.preprocessing import MinMaxScaler\n",
    "\n",
    "# from pykrx import stock\n",
    "# df = stock.get_market_ohlcv(\"20220613\",\"20230612\",\"048410\")\n",
    "# df.to_csv('./data/현대바이오.csv')\n",
    "\n",
    "class LSTMModel(nn.Module):\n",
    "    def __init__(self, input_size, hidden_size, layers, output_size, normal_data):\n",
    "        super(LSTMModel, self).__init__()\n",
    "        torch.manual_seed(2023)\n",
    "        self.normal_data = normal_data\n",
    "        self.hidden_size = hidden_size\n",
    "        self.input_size = input_size\n",
    "        self.output_size = output_size\n",
    "        self.lstm = nn.LSTM(input_size, hidden_size, num_layers=layers, batch_first=True)\n",
    "        self.linear = nn.Linear(hidden_size, output_size)\n",
    "\n",
    "    def forward(self, input):\n",
    "        ouputs, status = self.lstm(input)\n",
    "        x = self.linear(ouputs[:, -1])\n",
    "        return x\n",
    "    \n",
    "    def predict(self):\n",
    "        step = self.hidden_size\n",
    "        input_data = self.normal_data[-step:]\n",
    "        print(f'input_data: {input_data.shape}')\n",
    "        return self.forward(torch.Tensor([input_data]))\n",
    "\n",
    "# many to many(x_count수를 input으로 output_size개를 예측)\n",
    "def split_train(data, x_count, output_size):\n",
    "    data = data.tolist()\n",
    "    x_train = []\n",
    "    for i in range(0, len(data)-x_count-output_size+1):\n",
    "        x_train.append([[j] for j in data[i:i+x_count]])\n",
    "\n",
    "    # y_train = [[i] for i in data[x_count:]]\n",
    "    y_train = []\n",
    "    for i in range(x_count, len(data)-output_size+1):\n",
    "        y_train.append(data[i:i+output_size])\n",
    "\n",
    "    return torch.Tensor(x_train), torch.Tensor(y_train)"
   ]
  },
  {
   "cell_type": "code",
   "execution_count": 5,
   "metadata": {},
   "outputs": [
    {
     "name": "stdout",
     "output_type": "stream",
     "text": [
      "torch.Size([210, 10, 1])\n",
      "torch.Size([210, 5])\n"
     ]
    },
    {
     "ename": "TypeError",
     "evalue": "split_train() missing 1 required positional argument: 'output_size'",
     "output_type": "error",
     "traceback": [
      "\u001b[0;31m---------------------------------------------------------------------------\u001b[0m",
      "\u001b[0;31mTypeError\u001b[0m                                 Traceback (most recent call last)",
      "\u001b[0;32m/tmp/ipykernel_12864/1393754649.py\u001b[0m in \u001b[0;36m<module>\u001b[0;34m\u001b[0m\n\u001b[1;32m     22\u001b[0m \u001b[0mprint\u001b[0m\u001b[0;34m(\u001b[0m\u001b[0mx_train\u001b[0m\u001b[0;34m.\u001b[0m\u001b[0mshape\u001b[0m\u001b[0;34m)\u001b[0m\u001b[0;34m\u001b[0m\u001b[0;34m\u001b[0m\u001b[0m\n\u001b[1;32m     23\u001b[0m \u001b[0mprint\u001b[0m\u001b[0;34m(\u001b[0m\u001b[0my_train\u001b[0m\u001b[0;34m.\u001b[0m\u001b[0mshape\u001b[0m\u001b[0;34m)\u001b[0m\u001b[0;34m\u001b[0m\u001b[0;34m\u001b[0m\u001b[0m\n\u001b[0;32m---> 24\u001b[0;31m \u001b[0mx_test\u001b[0m\u001b[0;34m,\u001b[0m \u001b[0my_test\u001b[0m \u001b[0;34m=\u001b[0m \u001b[0msplit_train\u001b[0m\u001b[0;34m(\u001b[0m\u001b[0mnp\u001b[0m\u001b[0;34m.\u001b[0m\u001b[0mravel\u001b[0m\u001b[0;34m(\u001b[0m\u001b[0mnormal10\u001b[0m\u001b[0;34m)\u001b[0m\u001b[0;34m,\u001b[0m \u001b[0mhidden_size\u001b[0m\u001b[0;34m)\u001b[0m\u001b[0;34m\u001b[0m\u001b[0;34m\u001b[0m\u001b[0m\n\u001b[0m\u001b[1;32m     25\u001b[0m \u001b[0;34m\u001b[0m\u001b[0m\n\u001b[1;32m     26\u001b[0m \u001b[0mmodel\u001b[0m \u001b[0;34m=\u001b[0m \u001b[0mLSTMModel\u001b[0m\u001b[0;34m(\u001b[0m\u001b[0minput_size\u001b[0m\u001b[0;34m,\u001b[0m \u001b[0mhidden_size\u001b[0m\u001b[0;34m,\u001b[0m \u001b[0mlayers\u001b[0m\u001b[0;34m,\u001b[0m \u001b[0moutput_size\u001b[0m\u001b[0;34m,\u001b[0m \u001b[0mnormal\u001b[0m\u001b[0;34m)\u001b[0m\u001b[0;34m\u001b[0m\u001b[0;34m\u001b[0m\u001b[0m\n",
      "\u001b[0;31mTypeError\u001b[0m: split_train() missing 1 required positional argument: 'output_size'"
     ]
    }
   ],
   "source": [
    "\"\"\"\n",
    "many to many 평가\n",
    "\"\"\"\n",
    "# 하이퍼 파라미터\n",
    "input_size = 1\n",
    "hidden_size = 10\n",
    "layers = 1\n",
    "output_size = 5\n",
    "learning_rate = 0.01\n",
    "epoch = 300\n",
    "\n",
    "df = pd.read_csv('./data/20230615_현대바이오.csv')\n",
    "# x_train, y_train = split_train(np.ravel(df['시가'].values), 4)\n",
    "# print(df['시가'][:10])\n",
    "# print(x_train[:10])\n",
    "# print(y_train[:10])\n",
    "mms = MinMaxScaler()\n",
    "normal = mms.fit_transform(df[['시가']])\n",
    "# train, test 데이터 나누기\n",
    "normal90, normal10 = np.split(normal, [int(len(normal)*0.9)])\n",
    "x_train, y_train = split_train(np.ravel(normal90), hidden_size, output_size)\n",
    "print(x_train.shape)\n",
    "print(y_train.shape)\n",
    "x_test, y_test = split_train(np.ravel(normal10), hidden_size)\n",
    "\n",
    "model = LSTMModel(input_size, hidden_size, layers, output_size, normal)\n",
    "\n",
    "cost = nn.MSELoss()\n",
    "optimizer = torch.optim.Adam(model.parameters(), lr=learning_rate)\n",
    "\n",
    "loss_value=[]\n",
    "for i in range(epoch + 1):\n",
    "    prediction = model(x_train)\n",
    "    output = cost(prediction, y_train)\n",
    "    loss_value.append(output)\n",
    "\n",
    "    optimizer.zero_grad()\n",
    "    output.backward()\n",
    "    optimizer.step()\n",
    "\n",
    "print(loss_value[-10:])\n",
    "predict_test = model(x_test)\n",
    "predict_test = mms.inverse_transform(predict_test.tolist())\n",
    "y_test = mms.inverse_transform(y_test.tolist())\n",
    "# 시점을 맞춰서 보기 \n",
    "# predict_test = np.delete(predict_test, 0)\n",
    "# y_test = np.delete(y_test, -1)\n",
    "# print(y_test)\n",
    "# print(predict_test)\n",
    "\n",
    "plt.plot(np.ravel(y_test), \".-\", label='label')\n",
    "plt.plot(np.ravel(predict_test), \".-\", label=\"predict\")\n",
    "plt.legend()"
   ]
  },
  {
   "cell_type": "code",
   "execution_count": 37,
   "metadata": {},
   "outputs": [
    {
     "name": "stdout",
     "output_type": "stream",
     "text": [
      "[tensor(0.0105, grad_fn=<MseLossBackward0>), tensor(0.0105, grad_fn=<MseLossBackward0>), tensor(0.0104, grad_fn=<MseLossBackward0>), tensor(0.0104, grad_fn=<MseLossBackward0>), tensor(0.0103, grad_fn=<MseLossBackward0>), tensor(0.0103, grad_fn=<MseLossBackward0>), tensor(0.0103, grad_fn=<MseLossBackward0>), tensor(0.0102, grad_fn=<MseLossBackward0>), tensor(0.0102, grad_fn=<MseLossBackward0>), tensor(0.0101, grad_fn=<MseLossBackward0>)]\n",
      "input_data: (10, 1)\n"
     ]
    },
    {
     "data": {
      "text/plain": [
       "<matplotlib.legend.Legend at 0x7f8e1e3ba3d0>"
      ]
     },
     "execution_count": 37,
     "metadata": {},
     "output_type": "execute_result"
    },
    {
     "data": {
      "image/png": "[encoded data removed]",
      "text/plain": [
       "<Figure size 640x480 with 1 Axes>"
      ]
     },
     "metadata": {},
     "output_type": "display_data"
    }
   ],
   "source": [
    "\"\"\"\n",
    "예측값 보기\n",
    "\"\"\"\n",
    "input_size = 1\n",
    "hidden_size = 10\n",
    "layers = 1\n",
    "output_size = 5\n",
    "learning_rate = 0.01\n",
    "epoch = 100\n",
    "\n",
    "df = pd.read_csv('./data/현대바이오 copy.csv')\n",
    "mms = MinMaxScaler()\n",
    "normal = mms.fit_transform(df[['시가']])\n",
    "x_train, y_train = split_train(np.ravel(normal), hidden_size, output_size)\n",
    "\n",
    "model = LSTMModel(input_size, hidden_size, layers, output_size, normal)\n",
    "cost = nn.MSELoss()\n",
    "optimizer = torch.optim.Adam(model.parameters(), lr=learning_rate)\n",
    "\n",
    "loss_value=[]\n",
    "for i in range(epoch + 1):\n",
    "    prediction = model(x_train)\n",
    "    output = cost(prediction, y_train)\n",
    "    loss_value.append(output)\n",
    "\n",
    "    optimizer.zero_grad()\n",
    "    output.backward()\n",
    "    optimizer.step()\n",
    "print(loss_value[-10:])\n",
    "\n",
    "# 추론\n",
    "result = model.predict()\n",
    "\n",
    "result = mms.inverse_transform(result.tolist())\n",
    "plt.plot(result[0], '.-', label='predict')\n",
    "df2 = pd.read_csv('./data/20230615_현대바이오.csv')\n",
    "plt.plot(df2['시가'][-output_size:].values, '.-', label='label')\n",
    "plt.legend()"
   ]
  }
 ],
 "metadata": {
  "kernelspec": {
   "display_name": "Python 3.7.14 64-bit",
   "language": "python",
   "name": "python3"
  },
  "language_info": {
   "codemirror_mode": {
    "name": "ipython",
    "version": 3
   },
   "file_extension": ".py",
   "mimetype": "text/x-python",
   "name": "python",
   "nbconvert_exporter": "python",
   "pygments_lexer": "ipython3",
   "version": "3.7.14"
  },
  "orig_nbformat": 4,
  "vscode": {
   "interpreter": {
    "hash": "fd69f43f58546b570e94fd7eba7b65e6bcc7a5bbc4eab0408017d18902915d69"
   }
  }
 },
 "nbformat": 4,
 "nbformat_minor": 2
}
